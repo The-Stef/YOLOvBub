{
  "nbformat": 4,
  "nbformat_minor": 0,
  "metadata": {
    "colab": {
      "provenance": []
    },
    "kernelspec": {
      "name": "python3",
      "display_name": "Python 3"
    },
    "language_info": {
      "name": "python"
    }
  },
  "cells": [
    {
      "cell_type": "code",
      "source": [
        "from google.colab import drive\n",
        "drive.mount('/content/drive')"
      ],
      "metadata": {
        "id": "FUI9guOzFW-K"
      },
      "execution_count": null,
      "outputs": []
    },
    {
      "cell_type": "code",
      "source": [
        "!pip install ultralytics opencv-python filterpy ffmpeg supervision tqdm\n",
        "!pip uninstall -y wandb\n",
        "!pip install -U lap"
      ],
      "metadata": {
        "id": "h0IN81-_FXQ1"
      },
      "execution_count": null,
      "outputs": []
    },
    {
      "cell_type": "code",
      "source": [
        "import os\n",
        "import cv2\n",
        "import sys\n",
        "import json\n",
        "import torch\n",
        "import locale\n",
        "import numpy as np\n",
        "\n",
        "from ultralytics import YOLO\n",
        "os.environ[\"WANDB_DISABLED\"] = \"True\"\n",
        "locale.getpreferredencoding = lambda: \"UTF-8\""
      ],
      "metadata": {
        "id": "7eDdEUiuFY__"
      },
      "execution_count": null,
      "outputs": []
    },
    {
      "cell_type": "code",
      "source": [
        "HOME = os.getcwd()\n",
        "\n",
        "!mkdir {HOME}/datasets\n",
        "%cd {HOME}/datasets\n",
        "\n",
        "!pip install -q roboflow\n",
        "\n",
        "from google.colab import userdata\n",
        "from roboflow import Roboflow\n",
        "\n",
        "import os\n",
        "from dotenv import load_dotenv, find_dotenv\n",
        "_= load_dotenv(find_dotenv())\n",
        "ROBOFLOW_API_KEY = input(\"Enter your Roboflow API Key: \")\n",
        "\n",
        "\n",
        "rf = Roboflow(api_key=ROBOFLOW_API_KEY)\n",
        "project = rf.workspace(\"basic-zf4d9\").project(\"bubset-testing\")\n",
        "version = project.version(1)\n",
        "dataset = version.download(\"yolov8\")"
      ],
      "metadata": {
        "id": "RLpO3HWuFiI0"
      },
      "execution_count": null,
      "outputs": []
    },
    {
      "cell_type": "code",
      "source": [
        "YAML_PATH = f\"{dataset.location}/data.yaml\""
      ],
      "metadata": {
        "id": "Kp9rYkgLFjbd"
      },
      "execution_count": null,
      "outputs": []
    },
    {
      "cell_type": "code",
      "source": [
        "# If using BubSET-Testing, this step is required.\n",
        "# BubSET-Testing does not have train / validation splits by default, but the code still requires their respective directories to exist.\n",
        "!mkdir -p /content/datasets/BubSET-Testing-1/train/images\n",
        "!mkdir -p /content/datasets/BubSET-Testing-1/train/labels\n",
        "!mkdir -p /content/datasets/BubSET-Testing-1/valid/images\n",
        "!mkdir -p /content/datasets/BubSET-Testing-1/valid/labels"
      ],
      "metadata": {
        "id": "Sr499B3fFENs"
      },
      "execution_count": null,
      "outputs": []
    },
    {
      "cell_type": "code",
      "execution_count": null,
      "metadata": {
        "id": "SGaDq1qsCUv2"
      },
      "outputs": [],
      "source": [
        "# If you wish to compare multiple sets of weights. Weights should be in the main /content/ directory.\n",
        "weight_list = [\"18042025.pt\", \"other-model-weights.pt\"]\n",
        "\n",
        "for weight in weight_list:\n",
        "  weight_path = os.path.join(\"/content/\", weight)\n",
        "  model = YOLO(weight_path)\n",
        "  print(f\"TESTING {weight}\")\n",
        "  results = model.val(data=YAML_PATH, split='test')\n",
        "  print(\"\\n\")"
      ]
    },
    {
      "cell_type": "code",
      "source": [
        "# These results should be saved in the runtime of the notebook under /content/runs/detect/val<number>/\n",
        "!mv /content/runs/detect/val<number>/ /content/drive/MyDrive/"
      ],
      "metadata": {
        "id": "dAhaHH9TEilb"
      },
      "execution_count": null,
      "outputs": []
    }
  ]
}